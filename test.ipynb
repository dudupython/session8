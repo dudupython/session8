{
 "cells": [
  {
   "cell_type": "code",
   "execution_count": 1,
   "metadata": {},
   "outputs": [
    {
     "data": {
      "text/plain": [
       "2"
      ]
     },
     "execution_count": 1,
     "metadata": {},
     "output_type": "execute_result"
    }
   ],
   "source": [
    "1+1"
   ]
  },
  {
   "cell_type": "code",
   "execution_count": 2,
   "metadata": {},
   "outputs": [
    {
     "name": "stdout",
     "output_type": "stream",
     "text": [
      "zzzz\n"
     ]
    }
   ],
   "source": []
  },
  {
   "cell_type": "code",
   "execution_count": 2,
   "metadata": {},
   "outputs": [],
   "source": [
    "import pandas as pd"
   ]
  },
  {
   "cell_type": "code",
   "execution_count": 6,
   "metadata": {},
   "outputs": [],
   "source": [
    "import requests, json\n",
    "response = requests.get(\"https://api.openweathermap.org/data/2.5/weather?q=hanoi&units=metric&appid=8a71a012ee1405d9caa1832627063f02\")"
   ]
  },
  {
   "cell_type": "code",
   "execution_count": 10,
   "metadata": {},
   "outputs": [
    {
     "data": {
      "text/plain": [
       "<Response [200]>"
      ]
     },
     "execution_count": 10,
     "metadata": {},
     "output_type": "execute_result"
    }
   ],
   "source": [
    "response"
   ]
  },
  {
   "cell_type": "code",
   "execution_count": 8,
   "metadata": {},
   "outputs": [
    {
     "data": {
      "text/plain": [
       "{'coord': {'lon': 105.8412, 'lat': 21.0245},\n",
       " 'weather': [{'id': 804,\n",
       "   'main': 'Clouds',\n",
       "   'description': 'overcast clouds',\n",
       "   'icon': '04d'}],\n",
       " 'base': 'stations',\n",
       " 'main': {'temp': 33,\n",
       "  'feels_like': 40,\n",
       "  'temp_min': 33,\n",
       "  'temp_max': 33,\n",
       "  'pressure': 998,\n",
       "  'humidity': 62,\n",
       "  'sea_level': 998,\n",
       "  'grnd_level': 996},\n",
       " 'visibility': 10000,\n",
       " 'wind': {'speed': 2.06, 'deg': 147, 'gust': 2.58},\n",
       " 'clouds': {'all': 98},\n",
       " 'dt': 1653555818,\n",
       " 'sys': {'type': 1,\n",
       "  'id': 9308,\n",
       "  'country': 'VN',\n",
       "  'sunrise': 1653516953,\n",
       "  'sunset': 1653564703},\n",
       " 'timezone': 25200,\n",
       " 'id': 1581130,\n",
       " 'name': 'Hanoi',\n",
       " 'cod': 200}"
      ]
     },
     "execution_count": 8,
     "metadata": {},
     "output_type": "execute_result"
    }
   ],
   "source": [
    "response.json()"
   ]
  },
  {
   "cell_type": "code",
   "execution_count": 4,
   "metadata": {},
   "outputs": [],
   "source": [
    "x ={\"coord\":{\"lon\":105.8412,\"lat\":21.0245},\"weather\":[{\"id\":804,\"main\":\"Clouds\",\"description\":\"overcast clouds\",\"icon\":\"04d\"}],\"base\":\"stations\",\"main\":{\"temp\":33,\"feels_like\":40,\"temp_min\":33,\"temp_max\":33,\"pressure\":998,\"humidity\":62,\"sea_level\":998,\"grnd_level\":996},\"visibility\":10000,\"wind\":{\"speed\":2.06,\"deg\":147,\"gust\":2.58},\"clouds\":{\"all\":98},\"dt\":1653555048,\"sys\":{\"type\":1,\"id\":9308,\"country\":\"VN\",\"sunrise\":1653516953,\"sunset\":1653564703},\"timezone\":25200,\"id\":1581130,\"name\":\"Hanoi\",\"cod\":200}"
   ]
  },
  {
   "cell_type": "code",
   "execution_count": 5,
   "metadata": {},
   "outputs": [
    {
     "data": {
      "text/plain": [
       "{'coord': {'lon': 105.8412, 'lat': 21.0245},\n",
       " 'weather': [{'id': 804,\n",
       "   'main': 'Clouds',\n",
       "   'description': 'overcast clouds',\n",
       "   'icon': '04d'}],\n",
       " 'base': 'stations',\n",
       " 'main': {'temp': 33,\n",
       "  'feels_like': 40,\n",
       "  'temp_min': 33,\n",
       "  'temp_max': 33,\n",
       "  'pressure': 998,\n",
       "  'humidity': 62,\n",
       "  'sea_level': 998,\n",
       "  'grnd_level': 996},\n",
       " 'visibility': 10000,\n",
       " 'wind': {'speed': 2.06, 'deg': 147, 'gust': 2.58},\n",
       " 'clouds': {'all': 98},\n",
       " 'dt': 1653555048,\n",
       " 'sys': {'type': 1,\n",
       "  'id': 9308,\n",
       "  'country': 'VN',\n",
       "  'sunrise': 1653516953,\n",
       "  'sunset': 1653564703},\n",
       " 'timezone': 25200,\n",
       " 'id': 1581130,\n",
       " 'name': 'Hanoi',\n",
       " 'cod': 200}"
      ]
     },
     "execution_count": 5,
     "metadata": {},
     "output_type": "execute_result"
    }
   ],
   "source": [
    "x\n"
   ]
  },
  {
   "cell_type": "code",
   "execution_count": null,
   "metadata": {},
   "outputs": [],
   "source": []
  },
  {
   "cell_type": "markdown",
   "metadata": {},
   "source": [
    "twilio"
   ]
  },
  {
   "cell_type": "markdown",
   "metadata": {},
   "source": []
  },
  {
   "cell_type": "code",
   "execution_count": 9,
   "metadata": {},
   "outputs": [
    {
     "ename": "TwilioRestException",
     "evalue": "HTTP 400 error: Unable to create record: The 'To' number +84898654936 is not a valid phone number.",
     "output_type": "error",
     "traceback": [
      "\u001b[0;31m---------------------------------------------------------------------------\u001b[0m",
      "\u001b[0;31mTwilioRestException\u001b[0m                       Traceback (most recent call last)",
      "\u001b[1;32m/Users/macbookair/Desktop/test/test.ipynb Cell 12'\u001b[0m in \u001b[0;36m<cell line: 14>\u001b[0;34m()\u001b[0m\n\u001b[1;32m     <a href='vscode-notebook-cell:/Users/macbookair/Desktop/test/test.ipynb#ch0000011?line=10'>11</a>\u001b[0m auth_token \u001b[39m=\u001b[39m \u001b[39m\"\u001b[39m\u001b[39m7f64f3971878df799f9868da31799b11\u001b[39m\u001b[39m\"\u001b[39m\n\u001b[1;32m     <a href='vscode-notebook-cell:/Users/macbookair/Desktop/test/test.ipynb#ch0000011?line=11'>12</a>\u001b[0m client \u001b[39m=\u001b[39m Client(account_sid, auth_token)\n\u001b[0;32m---> <a href='vscode-notebook-cell:/Users/macbookair/Desktop/test/test.ipynb#ch0000011?line=13'>14</a>\u001b[0m message \u001b[39m=\u001b[39m client\u001b[39m.\u001b[39;49mmessages \\\n\u001b[1;32m     <a href='vscode-notebook-cell:/Users/macbookair/Desktop/test/test.ipynb#ch0000011?line=14'>15</a>\u001b[0m     \u001b[39m.\u001b[39;49mcreate(\n\u001b[1;32m     <a href='vscode-notebook-cell:/Users/macbookair/Desktop/test/test.ipynb#ch0000011?line=15'>16</a>\u001b[0m          body\u001b[39m=\u001b[39;49m\u001b[39m'\u001b[39;49m\u001b[39mThis is the ship that made the Kessel Run in fourteen parsecs?\u001b[39;49m\u001b[39m'\u001b[39;49m,\n\u001b[1;32m     <a href='vscode-notebook-cell:/Users/macbookair/Desktop/test/test.ipynb#ch0000011?line=16'>17</a>\u001b[0m          from_\u001b[39m=\u001b[39;49m\u001b[39m'\u001b[39;49m\u001b[39m+84898654936\u001b[39;49m\u001b[39m'\u001b[39;49m,\n\u001b[1;32m     <a href='vscode-notebook-cell:/Users/macbookair/Desktop/test/test.ipynb#ch0000011?line=17'>18</a>\u001b[0m          to\u001b[39m=\u001b[39;49m\u001b[39m'\u001b[39;49m\u001b[39m+84898654936\u001b[39;49m\u001b[39m'\u001b[39;49m\n\u001b[1;32m     <a href='vscode-notebook-cell:/Users/macbookair/Desktop/test/test.ipynb#ch0000011?line=18'>19</a>\u001b[0m      )\n\u001b[1;32m     <a href='vscode-notebook-cell:/Users/macbookair/Desktop/test/test.ipynb#ch0000011?line=20'>21</a>\u001b[0m \u001b[39mprint\u001b[39m(message\u001b[39m.\u001b[39msid)\n",
      "File \u001b[0;32m~/opt/anaconda3/lib/python3.9/site-packages/twilio/rest/api/v2010/account/message/__init__.py:95\u001b[0m, in \u001b[0;36mMessageList.create\u001b[0;34m(self, to, status_callback, application_sid, max_price, provide_feedback, attempt, validity_period, force_delivery, content_retention, address_retention, smart_encoded, persistent_action, schedule_type, send_at, send_as_mms, from_, messaging_service_sid, body, media_url)\u001b[0m\n\u001b[1;32m     <a href='file:///Users/macbookair/opt/anaconda3/lib/python3.9/site-packages/twilio/rest/api/v2010/account/message/__init__.py?line=46'>47</a>\u001b[0m \u001b[39m\"\"\"\u001b[39;00m\n\u001b[1;32m     <a href='file:///Users/macbookair/opt/anaconda3/lib/python3.9/site-packages/twilio/rest/api/v2010/account/message/__init__.py?line=47'>48</a>\u001b[0m \u001b[39mCreate the MessageInstance\u001b[39;00m\n\u001b[1;32m     <a href='file:///Users/macbookair/opt/anaconda3/lib/python3.9/site-packages/twilio/rest/api/v2010/account/message/__init__.py?line=48'>49</a>\u001b[0m \n\u001b[0;32m   (...)\u001b[0m\n\u001b[1;32m     <a href='file:///Users/macbookair/opt/anaconda3/lib/python3.9/site-packages/twilio/rest/api/v2010/account/message/__init__.py?line=70'>71</a>\u001b[0m \u001b[39m:rtype: twilio.rest.api.v2010.account.message.MessageInstance\u001b[39;00m\n\u001b[1;32m     <a href='file:///Users/macbookair/opt/anaconda3/lib/python3.9/site-packages/twilio/rest/api/v2010/account/message/__init__.py?line=71'>72</a>\u001b[0m \u001b[39m\"\"\"\u001b[39;00m\n\u001b[1;32m     <a href='file:///Users/macbookair/opt/anaconda3/lib/python3.9/site-packages/twilio/rest/api/v2010/account/message/__init__.py?line=72'>73</a>\u001b[0m data \u001b[39m=\u001b[39m values\u001b[39m.\u001b[39mof({\n\u001b[1;32m     <a href='file:///Users/macbookair/opt/anaconda3/lib/python3.9/site-packages/twilio/rest/api/v2010/account/message/__init__.py?line=73'>74</a>\u001b[0m     \u001b[39m'\u001b[39m\u001b[39mTo\u001b[39m\u001b[39m'\u001b[39m: to,\n\u001b[1;32m     <a href='file:///Users/macbookair/opt/anaconda3/lib/python3.9/site-packages/twilio/rest/api/v2010/account/message/__init__.py?line=74'>75</a>\u001b[0m     \u001b[39m'\u001b[39m\u001b[39mFrom\u001b[39m\u001b[39m'\u001b[39m: from_,\n\u001b[0;32m   (...)\u001b[0m\n\u001b[1;32m     <a href='file:///Users/macbookair/opt/anaconda3/lib/python3.9/site-packages/twilio/rest/api/v2010/account/message/__init__.py?line=91'>92</a>\u001b[0m     \u001b[39m'\u001b[39m\u001b[39mSendAsMms\u001b[39m\u001b[39m'\u001b[39m: send_as_mms,\n\u001b[1;32m     <a href='file:///Users/macbookair/opt/anaconda3/lib/python3.9/site-packages/twilio/rest/api/v2010/account/message/__init__.py?line=92'>93</a>\u001b[0m })\n\u001b[0;32m---> <a href='file:///Users/macbookair/opt/anaconda3/lib/python3.9/site-packages/twilio/rest/api/v2010/account/message/__init__.py?line=94'>95</a>\u001b[0m payload \u001b[39m=\u001b[39m \u001b[39mself\u001b[39;49m\u001b[39m.\u001b[39;49m_version\u001b[39m.\u001b[39;49mcreate(method\u001b[39m=\u001b[39;49m\u001b[39m'\u001b[39;49m\u001b[39mPOST\u001b[39;49m\u001b[39m'\u001b[39;49m, uri\u001b[39m=\u001b[39;49m\u001b[39mself\u001b[39;49m\u001b[39m.\u001b[39;49m_uri, data\u001b[39m=\u001b[39;49mdata, )\n\u001b[1;32m     <a href='file:///Users/macbookair/opt/anaconda3/lib/python3.9/site-packages/twilio/rest/api/v2010/account/message/__init__.py?line=96'>97</a>\u001b[0m \u001b[39mreturn\u001b[39;00m MessageInstance(\u001b[39mself\u001b[39m\u001b[39m.\u001b[39m_version, payload, account_sid\u001b[39m=\u001b[39m\u001b[39mself\u001b[39m\u001b[39m.\u001b[39m_solution[\u001b[39m'\u001b[39m\u001b[39maccount_sid\u001b[39m\u001b[39m'\u001b[39m], )\n",
      "File \u001b[0;32m~/opt/anaconda3/lib/python3.9/site-packages/twilio/base/version.py:205\u001b[0m, in \u001b[0;36mVersion.create\u001b[0;34m(self, method, uri, params, data, headers, auth, timeout, allow_redirects)\u001b[0m\n\u001b[1;32m    <a href='file:///Users/macbookair/opt/anaconda3/lib/python3.9/site-packages/twilio/base/version.py?line=192'>193</a>\u001b[0m response \u001b[39m=\u001b[39m \u001b[39mself\u001b[39m\u001b[39m.\u001b[39mrequest(\n\u001b[1;32m    <a href='file:///Users/macbookair/opt/anaconda3/lib/python3.9/site-packages/twilio/base/version.py?line=193'>194</a>\u001b[0m     method,\n\u001b[1;32m    <a href='file:///Users/macbookair/opt/anaconda3/lib/python3.9/site-packages/twilio/base/version.py?line=194'>195</a>\u001b[0m     uri,\n\u001b[0;32m   (...)\u001b[0m\n\u001b[1;32m    <a href='file:///Users/macbookair/opt/anaconda3/lib/python3.9/site-packages/twilio/base/version.py?line=200'>201</a>\u001b[0m     allow_redirects\u001b[39m=\u001b[39mallow_redirects,\n\u001b[1;32m    <a href='file:///Users/macbookair/opt/anaconda3/lib/python3.9/site-packages/twilio/base/version.py?line=201'>202</a>\u001b[0m )\n\u001b[1;32m    <a href='file:///Users/macbookair/opt/anaconda3/lib/python3.9/site-packages/twilio/base/version.py?line=203'>204</a>\u001b[0m \u001b[39mif\u001b[39;00m response\u001b[39m.\u001b[39mstatus_code \u001b[39m<\u001b[39m \u001b[39m200\u001b[39m \u001b[39mor\u001b[39;00m response\u001b[39m.\u001b[39mstatus_code \u001b[39m>\u001b[39m\u001b[39m=\u001b[39m \u001b[39m300\u001b[39m:\n\u001b[0;32m--> <a href='file:///Users/macbookair/opt/anaconda3/lib/python3.9/site-packages/twilio/base/version.py?line=204'>205</a>\u001b[0m     \u001b[39mraise\u001b[39;00m \u001b[39mself\u001b[39m\u001b[39m.\u001b[39mexception(method, uri, response, \u001b[39m'\u001b[39m\u001b[39mUnable to create record\u001b[39m\u001b[39m'\u001b[39m)\n\u001b[1;32m    <a href='file:///Users/macbookair/opt/anaconda3/lib/python3.9/site-packages/twilio/base/version.py?line=206'>207</a>\u001b[0m \u001b[39mreturn\u001b[39;00m json\u001b[39m.\u001b[39mloads(response\u001b[39m.\u001b[39mtext)\n",
      "\u001b[0;31mTwilioRestException\u001b[0m: HTTP 400 error: Unable to create record: The 'To' number +84898654936 is not a valid phone number."
     ]
    }
   ],
   "source": []
  },
  {
   "cell_type": "code",
   "execution_count": null,
   "metadata": {},
   "outputs": [],
   "source": []
  }
 ],
 "metadata": {
  "interpreter": {
   "hash": "29b762e6ebb16630dc180eb4a7876cc2a2c9b1bf58b2cade60381b48a6cb6e19"
  },
  "kernelspec": {
   "display_name": "Python 3.9.12 ('base')",
   "language": "python",
   "name": "python3"
  },
  "language_info": {
   "codemirror_mode": {
    "name": "ipython",
    "version": 3
   },
   "file_extension": ".py",
   "mimetype": "text/x-python",
   "name": "python",
   "nbconvert_exporter": "python",
   "pygments_lexer": "ipython3",
   "version": "3.9.12"
  },
  "orig_nbformat": 4
 },
 "nbformat": 4,
 "nbformat_minor": 2
}
